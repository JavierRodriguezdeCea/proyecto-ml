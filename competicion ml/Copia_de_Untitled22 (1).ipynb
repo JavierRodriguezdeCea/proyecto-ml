{
  "cells": [
    {
      "cell_type": "code",
      "execution_count": 1,
      "metadata": {
        "colab": {
          "base_uri": "https://localhost:8080/"
        },
        "id": "xSOzj8HzaHyr",
        "outputId": "87c3dc62-b1ad-4651-dd1e-1bc03be3ad45"
      },
      "outputs": [
        {
          "name": "stdout",
          "output_type": "stream",
          "text": [
            "   True_index  Store_ID  Day_of_week        Date  Nb_customers_on_day  Open  \\\n",
            "0           0       625            3  2013-11-06                  641     1   \n",
            "1           1       293            2  2013-07-16                  877     1   \n",
            "2           2        39            4  2014-01-23                  561     1   \n",
            "3           3       676            4  2013-09-26                 1584     1   \n",
            "4           4       709            3  2014-01-22                 1477     1   \n",
            "\n",
            "   Promotion State_holiday  School_holiday  Sales  \n",
            "0          1             0               0   7293  \n",
            "1          1             0               1   7060  \n",
            "2          1             0               0   4565  \n",
            "3          1             0               0   6380  \n",
            "4          1             0               0  11647  \n"
          ]
        }
      ],
      "source": [
        "import pandas as pd\n",
        "\n",
        "# Descargar el CSV\n",
        "url = \"https://raw.githubusercontent.com/data-bootcamp-v4/data/main/sales.csv\"\n",
        "df = pd.read_csv(url)\n",
        "\n",
        "# Ver las primeras filas del dataset\n",
        "print(df.head())\n"
      ]
    },
    {
      "cell_type": "code",
      "execution_count": 2,
      "metadata": {
        "id": "mmD4UqpWaqTV"
      },
      "outputs": [],
      "source": [
        "df['Date'] = pd.to_datetime(df['Date'])\n",
        "\n",
        "# Crear columnas 'Month' y 'Year' a partir de la columna 'Date'\n",
        "df['Month'] = df['Date'].dt.month\n",
        "df['Year'] = df['Date'].dt.year\n"
      ]
    },
    {
      "cell_type": "code",
      "execution_count": 3,
      "metadata": {
        "id": "H2-6vS5UbbWV"
      },
      "outputs": [],
      "source": [
        "df = df.drop(columns=['Date', 'True_index'])"
      ]
    },
    {
      "cell_type": "code",
      "execution_count": 4,
      "metadata": {
        "colab": {
          "base_uri": "https://localhost:8080/"
        },
        "id": "x0YMGVrqaYb7",
        "outputId": "e24b570b-797f-4ff1-a5ca-a8a9fcbe29a8"
      },
      "outputs": [
        {
          "name": "stdout",
          "output_type": "stream",
          "text": [
            "<class 'pandas.core.frame.DataFrame'>\n",
            "RangeIndex: 640840 entries, 0 to 640839\n",
            "Data columns (total 10 columns):\n",
            " #   Column               Non-Null Count   Dtype \n",
            "---  ------               --------------   ----- \n",
            " 0   Store_ID             640840 non-null  int64 \n",
            " 1   Day_of_week          640840 non-null  int64 \n",
            " 2   Nb_customers_on_day  640840 non-null  int64 \n",
            " 3   Open                 640840 non-null  int64 \n",
            " 4   Promotion            640840 non-null  int64 \n",
            " 5   State_holiday        640840 non-null  object\n",
            " 6   School_holiday       640840 non-null  int64 \n",
            " 7   Sales                640840 non-null  int64 \n",
            " 8   Month                640840 non-null  int32 \n",
            " 9   Year                 640840 non-null  int32 \n",
            "dtypes: int32(2), int64(7), object(1)\n",
            "memory usage: 44.0+ MB\n",
            "None\n"
          ]
        }
      ],
      "source": [
        "# Ver información general del dataset\n",
        "print(df.info())\n",
        "\n",
        "# Optimizar tipos de datos (booleanos, enteros y categóricos)\n",
        "boolean_cols = df.select_dtypes(include=['bool']).columns\n",
        "df[boolean_cols] = df[boolean_cols].astype('int8')\n",
        "\n",
        "# Convertir columnas categóricas a categorías\n",
        "categorical_cols = ['State_holiday', 'Day_of_week', 'Month', 'Year']  # Ajusta según el dataset\n",
        "df[categorical_cols] = df[categorical_cols].astype('category')\n",
        "\n",
        "# Eliminar columnas irrelevantes si las hubiera\n",
        "df = df.drop(columns=['irrelevant_column'], errors='ignore')  # Cambiar \"irrelevant_column\" si aplica\n"
      ]
    },
    {
      "cell_type": "code",
      "execution_count": 5,
      "metadata": {
        "id": "vcnlIkGfaZBr"
      },
      "outputs": [],
      "source": [
        "# Separar X (características) e y (objetivo)\n",
        "X = df.drop(columns=['Sales'])  # Reemplaza 'Sales' por la columna objetivo si es necesario\n",
        "y = df['Sales']\n"
      ]
    },
    {
      "cell_type": "code",
      "execution_count": 6,
      "metadata": {
        "id": "N5ZIZvIoaxhb"
      },
      "outputs": [],
      "source": [
        "from sklearn.model_selection import train_test_split\n",
        "\n",
        "# Dividir en conjunto de entrenamiento y prueba (80% - 20%)\n",
        "X_train, X_test, y_train, y_test = train_test_split(X, y, test_size=0.2, random_state=42)\n"
      ]
    },
    {
      "cell_type": "code",
      "execution_count": 7,
      "metadata": {
        "id": "O8cUo1j-a136"
      },
      "outputs": [],
      "source": [
        "from sklearn.preprocessing import OrdinalEncoder\n",
        "\n",
        "# Transformar las columnas categóricas\n",
        "encoder = OrdinalEncoder()\n",
        "categorical_cols = X_train.select_dtypes(include=['category']).columns\n",
        "\n",
        "X_train[categorical_cols] = encoder.fit_transform(X_train[categorical_cols])\n",
        "X_test[categorical_cols] = encoder.transform(X_test[categorical_cols])\n"
      ]
    },
    {
      "cell_type": "code",
      "execution_count": 8,
      "metadata": {
        "colab": {
          "base_uri": "https://localhost:8080/"
        },
        "id": "9o7kde6ka6g_",
        "outputId": "de880a44-65aa-4d6e-cc49-dbdae5713726"
      },
      "outputs": [
        {
          "name": "stdout",
          "output_type": "stream",
          "text": [
            "R² Score: 0.9540356008915756\n",
            "Mean Squared Error: 691994.762182914\n"
          ]
        }
      ],
      "source": [
        "from sklearn.ensemble import RandomForestRegressor\n",
        "from sklearn.metrics import r2_score, mean_squared_error\n",
        "\n",
        "# Crear el modelo Random Forest\n",
        "model = RandomForestRegressor(n_estimators=100, random_state=42, n_jobs=-1)\n",
        "\n",
        "# Entrenar el modelo\n",
        "model.fit(X_train, y_train)\n",
        "\n",
        "# Predicciones\n",
        "y_pred = model.predict(X_test)\n",
        "\n",
        "# Evaluar el modelo\n",
        "r2 = r2_score(y_test, y_pred)\n",
        "mse = mean_squared_error(y_test, y_pred)\n",
        "\n",
        "print(\"R² Score:\", r2)\n",
        "print(\"Mean Squared Error:\", mse)\n"
      ]
    }
  ],
  "metadata": {
    "colab": {
      "provenance": []
    },
    "kernelspec": {
      "display_name": "Python 3",
      "name": "python3"
    },
    "language_info": {
      "codemirror_mode": {
        "name": "ipython",
        "version": 3
      },
      "file_extension": ".py",
      "mimetype": "text/x-python",
      "name": "python",
      "nbconvert_exporter": "python",
      "pygments_lexer": "ipython3",
      "version": "3.11.9"
    }
  },
  "nbformat": 4,
  "nbformat_minor": 0
}
